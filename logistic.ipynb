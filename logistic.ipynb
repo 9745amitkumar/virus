{
  "nbformat": 4,
  "nbformat_minor": 0,
  "metadata": {
    "colab": {
      "provenance": []
    },
    "kernelspec": {
      "name": "python3",
      "display_name": "Python 3"
    },
    "language_info": {
      "name": "python"
    }
  },
  "cells": [
    {
      "cell_type": "code",
      "execution_count": 36,
      "metadata": {
        "id": "2Yf5Q6YVanYJ"
      },
      "outputs": [],
      "source": [
        "import pandas as pd\n",
        "import numpy as np\n",
        "from sklearn.model_selection import train_test_split\n",
        "from sklearn import preprocessing\n",
        "from sklearn.preprocessing import StandardScaler\n",
        "from sklearn.metrics import accuracy_score\n",
        "from sklearn.model_selection import KFold"
      ]
    },
    {
      "cell_type": "code",
      "source": [
        "df=pd.read_csv(\"/content/Student-University.csv\",names=[\"x1\",\"x2\",\"res\"])\n",
        "print(df)"
      ],
      "metadata": {
        "colab": {
          "base_uri": "https://localhost:8080/"
        },
        "id": "u2XlhTlJeRIG",
        "outputId": "2478301e-e508-4b12-a94a-1c91910d49e7"
      },
      "execution_count": 30,
      "outputs": [
        {
          "output_type": "stream",
          "name": "stdout",
          "text": [
            "           x1         x2  res\n",
            "0   34.623660  78.024693    0\n",
            "1   30.286711  43.894998    0\n",
            "2   35.847409  72.902198    0\n",
            "3   60.182599  86.308552    1\n",
            "4   79.032736  75.344376    1\n",
            "..        ...        ...  ...\n",
            "95  83.489163  48.380286    1\n",
            "96  42.261701  87.103851    1\n",
            "97  99.315009  68.775409    1\n",
            "98  55.340018  64.931938    1\n",
            "99  74.775893  89.529813    1\n",
            "\n",
            "[100 rows x 3 columns]\n"
          ]
        }
      ]
    },
    {
      "cell_type": "code",
      "source": [
        "x=df.iloc[:,[0,1]].values\n",
        "y=df.iloc[:,2].values"
      ],
      "metadata": {
        "id": "9NwGwVGefHc7"
      },
      "execution_count": 31,
      "outputs": []
    },
    {
      "cell_type": "code",
      "source": [
        "xp=preprocessing.scale(x)"
      ],
      "metadata": {
        "id": "5gOIPUqlfYOk"
      },
      "execution_count": 32,
      "outputs": []
    },
    {
      "cell_type": "code",
      "source": [
        "kf=KFold(n_splits=5)\n",
        "for train_index,test_index in kf.split(xp):\n",
        "  x_train,x_test,y_train,y_test=train_test_split(xp,y,test_size=0.20,random_state=0)\n",
        "  x1=x_train[:,0]\n",
        "  x2=x_train[:,1]\n",
        "  b0=0.0\n",
        "  b1=0.0\n",
        "  b2=0.0\n",
        "  epoch=10000\n",
        "  alpha=0.001\n",
        "  while(epoch>0):\n",
        "    for i in range(len(x_train)):\n",
        "      pred=1/(1+np.exp(-(b0+b1*x1[i]+b2*x2[i])))\n",
        "      b0=b0+alpha*(y_train[i]-pred)*pred*(1-pred)*1.0\n",
        "      b1=b1+alpha*(y_train[i]-pred)*pred*(1-pred)*x1[i]\n",
        "      b2=b2+alpha*(y_train[i]-pred)*pred*(1-pred)*x2[i]\n",
        "    epoch=epoch-1\n",
        "print(b0)\n",
        "print(b1)\n",
        "print(b2)\n",
        "                                                                          \n"
      ],
      "metadata": {
        "colab": {
          "base_uri": "https://localhost:8080/"
        },
        "id": "n23L55eifnxm",
        "outputId": "b26e1b1d-e768-4796-a2b7-3aeb0f8072a5"
      },
      "execution_count": 33,
      "outputs": [
        {
          "output_type": "stream",
          "name": "stdout",
          "text": [
            "0.9875270298732239\n",
            "2.6698848778906488\n",
            "2.7274062957733913\n"
          ]
        }
      ]
    },
    {
      "cell_type": "code",
      "source": [
        "final_pred=[]\n",
        "x3=x_test[:,0]\n",
        "x4=x_test[:,1]\n",
        "print(y_test)\n",
        "y_pred=[0]*len(x_test)\n",
        "for i in range(len(x_test)):\n",
        "  y_pred[i]=np.round(1/(1+np.exp(-(b0+b1*x3[i]+b2*x4[i]))))\n",
        "  final_pred.append(np.ceil(y_pred[i]))\n"
      ],
      "metadata": {
        "colab": {
          "base_uri": "https://localhost:8080/"
        },
        "id": "mXnqZQnnq3E_",
        "outputId": "48d734a0-91cd-49bb-88f3-6f68240d9336"
      },
      "execution_count": 35,
      "outputs": [
        {
          "output_type": "stream",
          "name": "stdout",
          "text": [
            "[1 0 0 0 1 1 1 1 0 1 0 0 0 1 1 1 0 1 1 1]\n"
          ]
        }
      ]
    },
    {
      "cell_type": "code",
      "source": [
        "print(final_pred);\n",
        "print(\"Accuracy score\",accuracy_score(y_test,y_pred))"
      ],
      "metadata": {
        "colab": {
          "base_uri": "https://localhost:8080/"
        },
        "id": "6Mq2H2iywEPK",
        "outputId": "2747ff0a-beb7-49d2-d684-c1e23a61159e"
      },
      "execution_count": 37,
      "outputs": [
        {
          "output_type": "stream",
          "name": "stdout",
          "text": [
            "[0.0, 0.0, 0.0, 0.0, 1.0, 1.0, 0.0, 1.0, 0.0, 1.0, 0.0, 0.0, 0.0, 1.0, 0.0, 1.0, 0.0, 1.0, 0.0, 1.0]\n",
            "Accuracy score 0.8\n"
          ]
        }
      ]
    }
  ]
}