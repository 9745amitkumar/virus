{
  "nbformat": 4,
  "nbformat_minor": 0,
  "metadata": {
    "colab": {
      "provenance": []
    },
    "kernelspec": {
      "name": "python3",
      "display_name": "Python 3"
    },
    "language_info": {
      "name": "python"
    }
  },
  "cells": [
    {
      "cell_type": "code",
      "execution_count": 25,
      "metadata": {
        "id": "JdDAGhLTCwNp"
      },
      "outputs": [],
      "source": [
        "import pandas as pd\n",
        "import numpy as np\n",
        "import matplotlib.pyplot as plt\n",
        "from copy import deepcopy\n",
        "k=3"
      ]
    },
    {
      "cell_type": "code",
      "source": [
        "df=pd.read_csv(\"/content/kmeans - Sheet1.csv\")\n",
        "df.head()"
      ],
      "metadata": {
        "colab": {
          "base_uri": "https://localhost:8080/",
          "height": 206
        },
        "id": "0X8qOwBRExm-",
        "outputId": "9611c9d9-7c9d-474a-996d-b86972c7f3ba"
      },
      "execution_count": 26,
      "outputs": [
        {
          "output_type": "execute_result",
          "data": {
            "text/plain": [
              "    x1   x2\n",
              "0  5.9  3.2\n",
              "1  4.6  2.9\n",
              "2  6.2  2.8\n",
              "3  4.7  3.2\n",
              "4  5.5  4.2"
            ],
            "text/html": [
              "\n",
              "  <div id=\"df-91346d22-b255-4a37-891b-ec43a18c128b\">\n",
              "    <div class=\"colab-df-container\">\n",
              "      <div>\n",
              "<style scoped>\n",
              "    .dataframe tbody tr th:only-of-type {\n",
              "        vertical-align: middle;\n",
              "    }\n",
              "\n",
              "    .dataframe tbody tr th {\n",
              "        vertical-align: top;\n",
              "    }\n",
              "\n",
              "    .dataframe thead th {\n",
              "        text-align: right;\n",
              "    }\n",
              "</style>\n",
              "<table border=\"1\" class=\"dataframe\">\n",
              "  <thead>\n",
              "    <tr style=\"text-align: right;\">\n",
              "      <th></th>\n",
              "      <th>x1</th>\n",
              "      <th>x2</th>\n",
              "    </tr>\n",
              "  </thead>\n",
              "  <tbody>\n",
              "    <tr>\n",
              "      <th>0</th>\n",
              "      <td>5.9</td>\n",
              "      <td>3.2</td>\n",
              "    </tr>\n",
              "    <tr>\n",
              "      <th>1</th>\n",
              "      <td>4.6</td>\n",
              "      <td>2.9</td>\n",
              "    </tr>\n",
              "    <tr>\n",
              "      <th>2</th>\n",
              "      <td>6.2</td>\n",
              "      <td>2.8</td>\n",
              "    </tr>\n",
              "    <tr>\n",
              "      <th>3</th>\n",
              "      <td>4.7</td>\n",
              "      <td>3.2</td>\n",
              "    </tr>\n",
              "    <tr>\n",
              "      <th>4</th>\n",
              "      <td>5.5</td>\n",
              "      <td>4.2</td>\n",
              "    </tr>\n",
              "  </tbody>\n",
              "</table>\n",
              "</div>\n",
              "      <button class=\"colab-df-convert\" onclick=\"convertToInteractive('df-91346d22-b255-4a37-891b-ec43a18c128b')\"\n",
              "              title=\"Convert this dataframe to an interactive table.\"\n",
              "              style=\"display:none;\">\n",
              "        \n",
              "  <svg xmlns=\"http://www.w3.org/2000/svg\" height=\"24px\"viewBox=\"0 0 24 24\"\n",
              "       width=\"24px\">\n",
              "    <path d=\"M0 0h24v24H0V0z\" fill=\"none\"/>\n",
              "    <path d=\"M18.56 5.44l.94 2.06.94-2.06 2.06-.94-2.06-.94-.94-2.06-.94 2.06-2.06.94zm-11 1L8.5 8.5l.94-2.06 2.06-.94-2.06-.94L8.5 2.5l-.94 2.06-2.06.94zm10 10l.94 2.06.94-2.06 2.06-.94-2.06-.94-.94-2.06-.94 2.06-2.06.94z\"/><path d=\"M17.41 7.96l-1.37-1.37c-.4-.4-.92-.59-1.43-.59-.52 0-1.04.2-1.43.59L10.3 9.45l-7.72 7.72c-.78.78-.78 2.05 0 2.83L4 21.41c.39.39.9.59 1.41.59.51 0 1.02-.2 1.41-.59l7.78-7.78 2.81-2.81c.8-.78.8-2.07 0-2.86zM5.41 20L4 18.59l7.72-7.72 1.47 1.35L5.41 20z\"/>\n",
              "  </svg>\n",
              "      </button>\n",
              "      \n",
              "  <style>\n",
              "    .colab-df-container {\n",
              "      display:flex;\n",
              "      flex-wrap:wrap;\n",
              "      gap: 12px;\n",
              "    }\n",
              "\n",
              "    .colab-df-convert {\n",
              "      background-color: #E8F0FE;\n",
              "      border: none;\n",
              "      border-radius: 50%;\n",
              "      cursor: pointer;\n",
              "      display: none;\n",
              "      fill: #1967D2;\n",
              "      height: 32px;\n",
              "      padding: 0 0 0 0;\n",
              "      width: 32px;\n",
              "    }\n",
              "\n",
              "    .colab-df-convert:hover {\n",
              "      background-color: #E2EBFA;\n",
              "      box-shadow: 0px 1px 2px rgba(60, 64, 67, 0.3), 0px 1px 3px 1px rgba(60, 64, 67, 0.15);\n",
              "      fill: #174EA6;\n",
              "    }\n",
              "\n",
              "    [theme=dark] .colab-df-convert {\n",
              "      background-color: #3B4455;\n",
              "      fill: #D2E3FC;\n",
              "    }\n",
              "\n",
              "    [theme=dark] .colab-df-convert:hover {\n",
              "      background-color: #434B5C;\n",
              "      box-shadow: 0px 1px 3px 1px rgba(0, 0, 0, 0.15);\n",
              "      filter: drop-shadow(0px 1px 2px rgba(0, 0, 0, 0.3));\n",
              "      fill: #FFFFFF;\n",
              "    }\n",
              "  </style>\n",
              "\n",
              "      <script>\n",
              "        const buttonEl =\n",
              "          document.querySelector('#df-91346d22-b255-4a37-891b-ec43a18c128b button.colab-df-convert');\n",
              "        buttonEl.style.display =\n",
              "          google.colab.kernel.accessAllowed ? 'block' : 'none';\n",
              "\n",
              "        async function convertToInteractive(key) {\n",
              "          const element = document.querySelector('#df-91346d22-b255-4a37-891b-ec43a18c128b');\n",
              "          const dataTable =\n",
              "            await google.colab.kernel.invokeFunction('convertToInteractive',\n",
              "                                                     [key], {});\n",
              "          if (!dataTable) return;\n",
              "\n",
              "          const docLinkHtml = 'Like what you see? Visit the ' +\n",
              "            '<a target=\"_blank\" href=https://colab.research.google.com/notebooks/data_table.ipynb>data table notebook</a>'\n",
              "            + ' to learn more about interactive tables.';\n",
              "          element.innerHTML = '';\n",
              "          dataTable['output_type'] = 'display_data';\n",
              "          await google.colab.output.renderOutput(dataTable, element);\n",
              "          const docLink = document.createElement('div');\n",
              "          docLink.innerHTML = docLinkHtml;\n",
              "          element.appendChild(docLink);\n",
              "        }\n",
              "      </script>\n",
              "    </div>\n",
              "  </div>\n",
              "  "
            ]
          },
          "metadata": {},
          "execution_count": 26
        }
      ]
    },
    {
      "cell_type": "code",
      "source": [
        "x=df[[\"x1\",\"x2\"]]\n",
        "plt.scatter(x[\"x1\"],x[\"x2\"],c=\"black\")\n",
        "xlabel=('annual income')\n",
        "ylabel=('loan amount')\n",
        "plt.show()"
      ],
      "metadata": {
        "colab": {
          "base_uri": "https://localhost:8080/",
          "height": 265
        },
        "id": "Vq6lnd-5FhcT",
        "outputId": "d995cf68-4985-4eba-a0a0-fd0628f429df"
      },
      "execution_count": 27,
      "outputs": [
        {
          "output_type": "display_data",
          "data": {
            "text/plain": [
              "<Figure size 432x288 with 1 Axes>"
            ],
            "image/png": "[encoded data removed]"
          },
          "metadata": {
            "needs_background": "light"
          }
        }
      ]
    },
    {
      "cell_type": "code",
      "source": [
        "x1=x[\"x1\"].values\n",
        "x2=x[\"x2\"].values\n",
        "x=np.array(list(zip(x1,x2)))\n",
        "print(x)\n"
      ],
      "metadata": {
        "colab": {
          "base_uri": "https://localhost:8080/",
          "height": 0
        },
        "id": "9EqxsAhLFxef",
        "outputId": "e1c4f3f1-815f-4890-9156-a824be204c89"
      },
      "execution_count": 28,
      "outputs": [
        {
          "output_type": "stream",
          "name": "stdout",
          "text": [
            "[[5.9 3.2]\n",
            " [4.6 2.9]\n",
            " [6.2 2.8]\n",
            " [4.7 3.2]\n",
            " [5.5 4.2]\n",
            " [5.  3. ]\n",
            " [4.9 3.1]\n",
            " [6.7 3.1]\n",
            " [5.1 3.8]\n",
            " [6.  3. ]]\n"
          ]
        }
      ]
    },
    {
      "cell_type": "code",
      "source": [
        "c_x=[6.3,6.6,6.5]\n",
        "c_y=[3.2,3.7,3.0]\n",
        "centroid=np.array(list(zip(c_x,c_y)))\n",
        "centroid"
      ],
      "metadata": {
        "colab": {
          "base_uri": "https://localhost:8080/",
          "height": 0
        },
        "id": "3l8-UGpkHM_C",
        "outputId": "e8b85ed8-bc2a-4b97-fcf6-37185e011e25"
      },
      "execution_count": 29,
      "outputs": [
        {
          "output_type": "execute_result",
          "data": {
            "text/plain": [
              "array([[6.3, 3.2],\n",
              "       [6.6, 3.7],\n",
              "       [6.5, 3. ]])"
            ]
          },
          "metadata": {},
          "execution_count": 29
        }
      ]
    },
    {
      "cell_type": "code",
      "source": [
        "old_centroid=np.zeros(centroid.shape)\n",
        "clusters=np.zeros(len(x))\n",
        "print(old_centroid,\" \",clusters)"
      ],
      "metadata": {
        "colab": {
          "base_uri": "https://localhost:8080/",
          "height": 0
        },
        "id": "VcQWftyKIns9",
        "outputId": "77a33fb3-436e-47ad-cc16-85e2c65bae74"
      },
      "execution_count": 30,
      "outputs": [
        {
          "output_type": "stream",
          "name": "stdout",
          "text": [
            "[[0. 0.]\n",
            " [0. 0.]\n",
            " [0. 0.]]   [0. 0. 0. 0. 0. 0. 0. 0. 0. 0.]\n"
          ]
        }
      ]
    },
    {
      "cell_type": "code",
      "source": [
        "iter=0"
      ],
      "metadata": {
        "id": "x749mdRkJLYQ"
      },
      "execution_count": 31,
      "outputs": []
    },
    {
      "cell_type": "code",
      "source": [
        "def eucledian(a,b,ax=1):\n",
        "  return np.linalg.norm(a-b,axis=ax)"
      ],
      "metadata": {
        "id": "QTKn_ftUJOnv"
      },
      "execution_count": 32,
      "outputs": []
    },
    {
      "cell_type": "code",
      "source": [
        "error=eucledian(centroid,old_centroid,None)\n",
        "error"
      ],
      "metadata": {
        "colab": {
          "base_uri": "https://localhost:8080/",
          "height": 0
        },
        "id": "Zef1P0r3J0eW",
        "outputId": "5381e8f8-0637-4ae0-9135-be2f77327760"
      },
      "execution_count": 33,
      "outputs": [
        {
          "output_type": "execute_result",
          "data": {
            "text/plain": [
              "12.586897949852458"
            ]
          },
          "metadata": {},
          "execution_count": 33
        }
      ]
    },
    {
      "cell_type": "code",
      "source": [
        "while error!=0 :\n",
        "  iter=iter+1\n",
        "  for i in range(len(x)):\n",
        "    distances=eucledian(x[i],centroid)\n",
        "    cluster=np.argmin(distances)\n",
        "    clusters[i]=cluster\n",
        "  old_centroid=deepcopy(centroid)\n",
        "  print(\"old Centroid\")\n",
        "  print(old_centroid)\n",
        "  for p in range(k):\n",
        "    points=[x[j] for j in range(len(x)) if clusters[j]==p ]\n",
        "    centroid[p]=np.mean(points,axis=0)\n",
        "  print(\"new centroid after iteration \",iter,\" : \",centroid)\n",
        "  error=eucledian(centroid,old_centroid,None)\n",
        "  print(\"error: \",error)\n",
        "  print(\"datapoints belongs to clusters\\n\",clusters)\n",
        "  print(\"**********************************************************************\")\n"
      ],
      "metadata": {
        "colab": {
          "base_uri": "https://localhost:8080/",
          "height": 0
        },
        "id": "CjhoIBfeKM2G",
        "outputId": "0b6b0257-1cec-4c05-bfce-4c85d1583c4f"
      },
      "execution_count": 34,
      "outputs": [
        {
          "output_type": "stream",
          "name": "stdout",
          "text": [
            "old Centroid\n",
            "[[6.3 3.2]\n",
            " [6.6 3.7]\n",
            " [6.5 3. ]]\n",
            "new centroid after iteration  1  :  [[5.17142857 3.17142857]\n",
            " [5.5        4.2       ]\n",
            " [6.45       2.95      ]]\n",
            "error:  1.6551404157709295\n",
            "datapoints belongs to clusters\n",
            " [0. 0. 2. 0. 1. 0. 0. 2. 0. 0.]\n",
            "**********************************************************************\n",
            "old Centroid\n",
            "[[5.17142857 3.17142857]\n",
            " [5.5        4.2       ]\n",
            " [6.45       2.95      ]]\n",
            "new centroid after iteration  2  :  [[4.8   3.05 ]\n",
            " [5.3   4.   ]\n",
            " [6.2   3.025]]\n",
            "error:  0.548478879841925\n",
            "datapoints belongs to clusters\n",
            " [2. 0. 2. 0. 1. 0. 0. 2. 1. 2.]\n",
            "**********************************************************************\n",
            "old Centroid\n",
            "[[4.8   3.05 ]\n",
            " [5.3   4.   ]\n",
            " [6.2   3.025]]\n",
            "new centroid after iteration  3  :  [[4.8   3.05 ]\n",
            " [5.3   4.   ]\n",
            " [6.2   3.025]]\n",
            "error:  0.0\n",
            "datapoints belongs to clusters\n",
            " [2. 0. 2. 0. 1. 0. 0. 2. 1. 2.]\n",
            "**********************************************************************\n"
          ]
        }
      ]
    }
  ]
}